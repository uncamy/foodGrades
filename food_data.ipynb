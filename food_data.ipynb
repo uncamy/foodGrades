{
 "metadata": {
  "name": ""
 },
 "nbformat": 3,
 "nbformat_minor": 0,
 "worksheets": [
  {
   "cells": [
    {
     "cell_type": "code",
     "collapsed": false,
     "input": [
      "import matplotlib.pyplot as plt\n",
      "import numpy as np\n",
      "from matplotlib import cm as cm\n",
      "from matplotlib import mlab as ml"
     ],
     "language": "python",
     "metadata": {},
     "outputs": [],
     "prompt_number": 6
    },
    {
     "cell_type": "code",
     "collapsed": false,
     "input": [
      "NPOINTS = 1000\n",
      "\n",
      "np.random.seed(101)\n",
      "lat = np.random.random(NPOINTS)*8+44\n",
      "lon = np.random.random(NPOINTS)*100-50\n",
      "counts = np.random.randint(0, 1000, NPOINTS)\n",
      "\n",
      "plt.subplot(211)\n",
      "plt.scatter(lat, lon, c=counts)\n",
      "plt.colorbar()\n",
      "plt.subplot(212)\n",
      "plt.scatter(lat, lon, s=counts)\n",
      "\n",
      "plt.savefig('scatter_example.png')\n",
      "plt.show()"
     ],
     "language": "python",
     "metadata": {},
     "outputs": [],
     "prompt_number": 7
    },
    {
     "cell_type": "code",
     "collapsed": false,
     "input": [
      "x = np.random.randn(8873)\n",
      "y = np.random.randn(8873)\n",
      "\n",
      "heatmap, xedges, yedges = np.histogram2d(x, y, bins=(512, 384))\n",
      "# bins are dimentions of the heatmap\n",
      "extent = [xedges[0], xedges[-1], yedges[0], yedges[-1]]\n",
      "\n",
      "plt.clf()\n",
      "plt.imshow(heatmap, extent=extent)\n",
      "plt.show()"
     ],
     "language": "python",
     "metadata": {},
     "outputs": [],
     "prompt_number": 3
    },
    {
     "cell_type": "code",
     "collapsed": false,
     "input": [
      "M = np.random.rand(209).reshape(11, 19)\n",
      "M.shape\n",
      "# returns: (11, 19)\n",
      "# if the array returned from your call to 'genfromtxt'\n",
      "# is not 11 x 19,\n",
      "# then you need to reshape it so that it is,\n",
      "# use, e.g., 'data.reshape(11, 19)'\n",
      "\n",
      "\n",
      "fig = plt.figure()\n",
      "ax1 = fig.add_subplot(111)\n",
      "\n",
      "# 'gray_r' refers to the particular matplotlib color map\n",
      "# i chose 'r' just means 'reverse'\n",
      "# so that '0' is white;\n",
      "# there are quite a few color maps in matplotlib\n",
      "# use dir(matplotlib.cm) to get a list of the installed colormaps\n",
      "\n",
      "# select the color map\n",
      "cmap = cm.get_cmap('gray_r', 10)\n",
      "\n",
      "# map the colors/shades to your data\n",
      "ax1.imshow(M, interpolation=\"nearest\", cmap=cmap)\n",
      "\n",
      "# plot it\n",
      "plt.show()"
     ],
     "language": "python",
     "metadata": {},
     "outputs": [],
     "prompt_number": 5
    },
    {
     "cell_type": "code",
     "collapsed": false,
     "input": [
      "n = 1e5\n",
      "x = y = np.linspace(-5, 5, 100)\n",
      "X, Y = np.meshgrid(x, y)\n",
      "Z1 = ml.bivariate_normal(X, Y, 2, 2, 0, 0)\n",
      "Z2 = ml.bivariate_normal(X, Y, 4, 1, 1, 1)\n",
      "ZD = Z2 - Z1\n",
      "x = X.ravel()\n",
      "y = Y.ravel()\n",
      "z = ZD.ravel()\n",
      "gridsize = 30\n",
      "plt.subplot(111)\n",
      "\n",
      "# if 'bins=None', then color of each hexagon corresponds directly to its count\n",
      "# 'C' is optional--it maps values to x-y coordinates; if 'C' is None (default)\n",
      "# then the result is a pure 2D histogram\n",
      "\n",
      "plt.hexbin(x, y, C=z, gridsize=gridsize, cmap=cm.jet, bins=None)\n",
      "plt.axis([x.min(), x.max(), y.min(), y.max()])\n",
      "\n",
      "cb = plt.colorbar()\n",
      "cb.set_label('mean value')\n",
      "plt.show()"
     ],
     "language": "python",
     "metadata": {},
     "outputs": [],
     "prompt_number": 8
    },
    {
     "cell_type": "code",
     "collapsed": false,
     "input": [],
     "language": "python",
     "metadata": {},
     "outputs": []
    }
   ],
   "metadata": {}
  }
 ]
}